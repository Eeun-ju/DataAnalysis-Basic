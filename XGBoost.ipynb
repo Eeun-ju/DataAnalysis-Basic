{
 "cells": [
  {
   "cell_type": "markdown",
   "metadata": {},
   "source": [
    "# XGBoost\n",
    "\n",
    "효율성과 유연성이 뛰어난 모델로  여러 파라미터를 조절해가면서 최적의 model을 만들 수 있다. 또한 오버피팅에도 강하며 신경망에 비해 시각화가 쉽고 이해하기 쉬운 직관적 모델이다.\n",
    "\n",
    "트리의 구조가 사용된다. 초기 예측값(대부분 0.5설정)을 이용하여 Gain을 가장 극대화하는 방법으로 트리 구조처럼 여러 예측값으로 나눈다. Similarity Score - New, Old 계산된다. Gain 가장 큰 분기로 나누고 리프 노드에 대해 재귀적으로 반복한다. Gain값이 음일 경우 분기를 중지한다.\n",
    "\n",
    "xgboost 하이퍼파라미터\n",
    "\n",
    "n_estimators : 결정 트리의 개수\n",
    "max_depth : 트리의 깊이\n",
    "colsample_bytree : 컬럼의 샘플링 비율\n",
    "subsample : weak learner가 학습에 사용하는 데이터 샘플링 비율\n",
    "learning_rate : 학습률\n",
    "min_split_loss : 리프 노드를 추가적으로 나눌지 결정하는 값\n",
    "reg_lambda : L2\n",
    "reg_alpha : L1"
   ]
  },
  {
   "cell_type": "markdown",
   "metadata": {},
   "source": [
    "## 암분류 데이터로 xgboost 진행"
   ]
  },
  {
   "cell_type": "code",
   "execution_count": 42,
   "metadata": {},
   "outputs": [
    {
     "name": "stdout",
     "output_type": "stream",
     "text": [
      "(455, 30) (114, 30)\n"
     ]
    }
   ],
   "source": [
    "import warnings \n",
    "warnings.filterwarnings('ignore')\n",
    "\n",
    "from sklearn import datasets\n",
    "from sklearn.model_selection import train_test_split\n",
    "import sklearn.metrics as metrics\n",
    "from sklearn.model_selection import GridSearchCV\n",
    "from xgboost import plot_importance\n",
    "from xgboost import XGBClassifier\n",
    "\n",
    "import pandas as pd\n",
    "\n",
    "data = datasets.load_breast_cancer()\n",
    "\n",
    "X = data.data\n",
    "y = data.target\n",
    "X_train,X_test, y_train, y_test = train_test_split(X,y,test_size = 0.2, random_state = 11)\n",
    "\n",
    "print(X_train.shape,X_test.shape)"
   ]
  },
  {
   "cell_type": "code",
   "execution_count": 43,
   "metadata": {},
   "outputs": [],
   "source": [
    "xgb = XGBClassifier(n_estimators = 500, learning_rate = 0.1, max_depth = 4)\n",
    "xgb.fit(X_train,y_train)\n",
    "xgb_pred = xgb.predict(X_test)"
   ]
  },
  {
   "cell_type": "code",
   "execution_count": 44,
   "metadata": {},
   "outputs": [
    {
     "name": "stdout",
     "output_type": "stream",
     "text": [
      "정확도 :  0.9912280701754386\n",
      "재현율 :  1.0\n",
      "f1-score :  0.9934640522875817\n",
      "\n",
      "              precision    recall  f1-score   support\n",
      "\n",
      "           0       1.00      0.97      0.99        38\n",
      "           1       0.99      1.00      0.99        76\n",
      "\n",
      "    accuracy                           0.99       114\n",
      "   macro avg       0.99      0.99      0.99       114\n",
      "weighted avg       0.99      0.99      0.99       114\n",
      "\n"
     ]
    },
    {
     "data": {
      "text/html": [
       "<div>\n",
       "<style scoped>\n",
       "    .dataframe tbody tr th:only-of-type {\n",
       "        vertical-align: middle;\n",
       "    }\n",
       "\n",
       "    .dataframe tbody tr th {\n",
       "        vertical-align: top;\n",
       "    }\n",
       "\n",
       "    .dataframe thead th {\n",
       "        text-align: right;\n",
       "    }\n",
       "</style>\n",
       "<table border=\"1\" class=\"dataframe\">\n",
       "  <thead>\n",
       "    <tr style=\"text-align: right;\">\n",
       "      <th></th>\n",
       "      <th>Pred0</th>\n",
       "      <th>Pred1</th>\n",
       "    </tr>\n",
       "  </thead>\n",
       "  <tbody>\n",
       "    <tr>\n",
       "      <th>True0</th>\n",
       "      <td>37</td>\n",
       "      <td>1</td>\n",
       "    </tr>\n",
       "    <tr>\n",
       "      <th>True1</th>\n",
       "      <td>0</td>\n",
       "      <td>76</td>\n",
       "    </tr>\n",
       "  </tbody>\n",
       "</table>\n",
       "</div>"
      ],
      "text/plain": [
       "       Pred0  Pred1\n",
       "True0     37      1\n",
       "True1      0     76"
      ]
     },
     "execution_count": 44,
     "metadata": {},
     "output_type": "execute_result"
    }
   ],
   "source": [
    "print('정확도 : ',metrics.accuracy_score(y_test,xgb_pred))\n",
    "print('재현율 : ',metrics.recall_score(y_test,xgb_pred))\n",
    "print('f1-score : ',metrics.f1_score(y_test,xgb_pred))\n",
    "print()\n",
    "print(metrics.classification_report(y_test,xgb_pred))\n",
    "result = pd.DataFrame(metrics.confusion_matrix(y_test,xgb_pred))\n",
    "result.index = ['True0','True1']\n",
    "result.columns = ['Pred0','Pred1']\n",
    "result"
   ]
  },
  {
   "cell_type": "markdown",
   "metadata": {},
   "source": [
    "## xgboost 하이퍼파라미터 튜닝"
   ]
  },
  {
   "cell_type": "code",
   "execution_count": 27,
   "metadata": {},
   "outputs": [],
   "source": [
    "xgb = XGBClassifier()\n",
    "\n",
    "xgb_param_grid = {\n",
    "    'n_estimators' : [100,200,400,600],\n",
    "    'learning_rate' : [0.01,0.05,0.1,0.15,0.2],\n",
    "    'max_depth' : [4,6,8,10,12]\n",
    "}\n",
    "\n",
    "xgb_grid = GridSearchCV(xgb,param_grid = xgb_param_grid,scoring = 'accuracy',n_jobs=-1,verbose = 1)"
   ]
  },
  {
   "cell_type": "code",
   "execution_count": 28,
   "metadata": {
    "scrolled": true
   },
   "outputs": [
    {
     "name": "stdout",
     "output_type": "stream",
     "text": [
      "Fitting 5 folds for each of 100 candidates, totalling 500 fits\n"
     ]
    },
    {
     "name": "stderr",
     "output_type": "stream",
     "text": [
      "[Parallel(n_jobs=-1)]: Using backend LokyBackend with 4 concurrent workers.\n",
      "[Parallel(n_jobs=-1)]: Done  42 tasks      | elapsed:   14.3s\n",
      "[Parallel(n_jobs=-1)]: Done 192 tasks      | elapsed:   42.6s\n",
      "[Parallel(n_jobs=-1)]: Done 442 tasks      | elapsed:  1.2min\n",
      "[Parallel(n_jobs=-1)]: Done 500 out of 500 | elapsed:  1.3min finished\n"
     ]
    },
    {
     "data": {
      "text/plain": [
       "GridSearchCV(cv=None, error_score=nan,\n",
       "             estimator=XGBClassifier(base_score=None, booster=None,\n",
       "                                     colsample_bylevel=None,\n",
       "                                     colsample_bynode=None,\n",
       "                                     colsample_bytree=None, gamma=None,\n",
       "                                     gpu_id=None, importance_type='gain',\n",
       "                                     interaction_constraints=None,\n",
       "                                     learning_rate=None, max_delta_step=None,\n",
       "                                     max_depth=None, min_child_weight=None,\n",
       "                                     missing=nan, monotone_constraints=None,\n",
       "                                     n_es...\n",
       "                                     random_state=None, reg_alpha=None,\n",
       "                                     reg_lambda=None, scale_pos_weight=None,\n",
       "                                     subsample=None, tree_method=None,\n",
       "                                     validate_parameters=False,\n",
       "                                     verbosity=None),\n",
       "             iid='deprecated', n_jobs=-1,\n",
       "             param_grid={'learning_rate': [0.01, 0.05, 0.1, 0.15, 0.2],\n",
       "                         'max_depth': [4, 6, 8, 10, 12],\n",
       "                         'n_estimators': [100, 200, 400, 600]},\n",
       "             pre_dispatch='2*n_jobs', refit=True, return_train_score=False,\n",
       "             scoring='accuracy', verbose=1)"
      ]
     },
     "execution_count": 28,
     "metadata": {},
     "output_type": "execute_result"
    }
   ],
   "source": [
    "xgb_grid.fit(X_train,y_train)"
   ]
  },
  {
   "cell_type": "code",
   "execution_count": 31,
   "metadata": {},
   "outputs": [
    {
     "name": "stdout",
     "output_type": "stream",
     "text": [
      "최고 평균 정확도 :  0.9714285714285715\n",
      "최고 파라미터 :  {'learning_rate': 0.1, 'max_depth': 4, 'n_estimators': 600}\n"
     ]
    }
   ],
   "source": [
    "print('최고 평균 정확도 : ',xgb_grid.best_score_)\n",
    "print('최고 파라미터 : ',xgb_grid.best_params_)"
   ]
  },
  {
   "cell_type": "code",
   "execution_count": 32,
   "metadata": {},
   "outputs": [],
   "source": [
    "cv_result_df = pd.DataFrame(xgb_grid.cv_results_)\n",
    "cv_result_df.sort_values(by = ['rank_test_score'],inplace = True)"
   ]
  },
  {
   "cell_type": "code",
   "execution_count": 34,
   "metadata": {},
   "outputs": [
    {
     "data": {
      "text/html": [
       "<div>\n",
       "<style scoped>\n",
       "    .dataframe tbody tr th:only-of-type {\n",
       "        vertical-align: middle;\n",
       "    }\n",
       "\n",
       "    .dataframe tbody tr th {\n",
       "        vertical-align: top;\n",
       "    }\n",
       "\n",
       "    .dataframe thead th {\n",
       "        text-align: right;\n",
       "    }\n",
       "</style>\n",
       "<table border=\"1\" class=\"dataframe\">\n",
       "  <thead>\n",
       "    <tr style=\"text-align: right;\">\n",
       "      <th></th>\n",
       "      <th>params</th>\n",
       "      <th>mean_test_score</th>\n",
       "      <th>rank_test_score</th>\n",
       "    </tr>\n",
       "  </thead>\n",
       "  <tbody>\n",
       "    <tr>\n",
       "      <th>97</th>\n",
       "      <td>{'learning_rate': 0.2, 'max_depth': 12, 'n_est...</td>\n",
       "      <td>0.971429</td>\n",
       "      <td>1</td>\n",
       "    </tr>\n",
       "    <tr>\n",
       "      <th>43</th>\n",
       "      <td>{'learning_rate': 0.1, 'max_depth': 4, 'n_esti...</td>\n",
       "      <td>0.971429</td>\n",
       "      <td>1</td>\n",
       "    </tr>\n",
       "    <tr>\n",
       "      <th>85</th>\n",
       "      <td>{'learning_rate': 0.2, 'max_depth': 6, 'n_esti...</td>\n",
       "      <td>0.971429</td>\n",
       "      <td>1</td>\n",
       "    </tr>\n",
       "    <tr>\n",
       "      <th>86</th>\n",
       "      <td>{'learning_rate': 0.2, 'max_depth': 6, 'n_esti...</td>\n",
       "      <td>0.971429</td>\n",
       "      <td>1</td>\n",
       "    </tr>\n",
       "    <tr>\n",
       "      <th>93</th>\n",
       "      <td>{'learning_rate': 0.2, 'max_depth': 10, 'n_est...</td>\n",
       "      <td>0.971429</td>\n",
       "      <td>1</td>\n",
       "    </tr>\n",
       "    <tr>\n",
       "      <th>87</th>\n",
       "      <td>{'learning_rate': 0.2, 'max_depth': 6, 'n_esti...</td>\n",
       "      <td>0.971429</td>\n",
       "      <td>1</td>\n",
       "    </tr>\n",
       "    <tr>\n",
       "      <th>89</th>\n",
       "      <td>{'learning_rate': 0.2, 'max_depth': 8, 'n_esti...</td>\n",
       "      <td>0.971429</td>\n",
       "      <td>1</td>\n",
       "    </tr>\n",
       "    <tr>\n",
       "      <th>99</th>\n",
       "      <td>{'learning_rate': 0.2, 'max_depth': 12, 'n_est...</td>\n",
       "      <td>0.969231</td>\n",
       "      <td>8</td>\n",
       "    </tr>\n",
       "    <tr>\n",
       "      <th>90</th>\n",
       "      <td>{'learning_rate': 0.2, 'max_depth': 8, 'n_esti...</td>\n",
       "      <td>0.969231</td>\n",
       "      <td>8</td>\n",
       "    </tr>\n",
       "    <tr>\n",
       "      <th>91</th>\n",
       "      <td>{'learning_rate': 0.2, 'max_depth': 8, 'n_esti...</td>\n",
       "      <td>0.969231</td>\n",
       "      <td>8</td>\n",
       "    </tr>\n",
       "  </tbody>\n",
       "</table>\n",
       "</div>"
      ],
      "text/plain": [
       "                                               params  mean_test_score  \\\n",
       "97  {'learning_rate': 0.2, 'max_depth': 12, 'n_est...         0.971429   \n",
       "43  {'learning_rate': 0.1, 'max_depth': 4, 'n_esti...         0.971429   \n",
       "85  {'learning_rate': 0.2, 'max_depth': 6, 'n_esti...         0.971429   \n",
       "86  {'learning_rate': 0.2, 'max_depth': 6, 'n_esti...         0.971429   \n",
       "93  {'learning_rate': 0.2, 'max_depth': 10, 'n_est...         0.971429   \n",
       "87  {'learning_rate': 0.2, 'max_depth': 6, 'n_esti...         0.971429   \n",
       "89  {'learning_rate': 0.2, 'max_depth': 8, 'n_esti...         0.971429   \n",
       "99  {'learning_rate': 0.2, 'max_depth': 12, 'n_est...         0.969231   \n",
       "90  {'learning_rate': 0.2, 'max_depth': 8, 'n_esti...         0.969231   \n",
       "91  {'learning_rate': 0.2, 'max_depth': 8, 'n_esti...         0.969231   \n",
       "\n",
       "    rank_test_score  \n",
       "97                1  \n",
       "43                1  \n",
       "85                1  \n",
       "86                1  \n",
       "93                1  \n",
       "87                1  \n",
       "89                1  \n",
       "99                8  \n",
       "90                8  \n",
       "91                8  "
      ]
     },
     "execution_count": 34,
     "metadata": {},
     "output_type": "execute_result"
    }
   ],
   "source": [
    "cv_result_df[['params','mean_test_score','rank_test_score']].head(10)"
   ]
  },
  {
   "cell_type": "markdown",
   "metadata": {},
   "source": [
    "## xgboost의 조기종료, 특성 중요도"
   ]
  },
  {
   "cell_type": "code",
   "execution_count": 37,
   "metadata": {},
   "outputs": [
    {
     "name": "stdout",
     "output_type": "stream",
     "text": [
      "[0]\tvalidation_0-logloss:0.61220\n",
      "Will train until validation_0-logloss hasn't improved in 3 rounds.\n",
      "[1]\tvalidation_0-logloss:0.53978\n",
      "[2]\tvalidation_0-logloss:0.48259\n",
      "[3]\tvalidation_0-logloss:0.43099\n",
      "[4]\tvalidation_0-logloss:0.38713\n",
      "[5]\tvalidation_0-logloss:0.34935\n",
      "[6]\tvalidation_0-logloss:0.31888\n",
      "[7]\tvalidation_0-logloss:0.28952\n",
      "[8]\tvalidation_0-logloss:0.26415\n",
      "[9]\tvalidation_0-logloss:0.24136\n",
      "[10]\tvalidation_0-logloss:0.22104\n",
      "[11]\tvalidation_0-logloss:0.20209\n",
      "[12]\tvalidation_0-logloss:0.18659\n",
      "[13]\tvalidation_0-logloss:0.17278\n",
      "[14]\tvalidation_0-logloss:0.16017\n",
      "[15]\tvalidation_0-logloss:0.14943\n",
      "[16]\tvalidation_0-logloss:0.14068\n",
      "[17]\tvalidation_0-logloss:0.13206\n",
      "[18]\tvalidation_0-logloss:0.12322\n",
      "[19]\tvalidation_0-logloss:0.11721\n",
      "[20]\tvalidation_0-logloss:0.11086\n",
      "[21]\tvalidation_0-logloss:0.10476\n",
      "[22]\tvalidation_0-logloss:0.10088\n",
      "[23]\tvalidation_0-logloss:0.09656\n",
      "[24]\tvalidation_0-logloss:0.09129\n",
      "[25]\tvalidation_0-logloss:0.08653\n",
      "[26]\tvalidation_0-logloss:0.08316\n",
      "[27]\tvalidation_0-logloss:0.07949\n",
      "[28]\tvalidation_0-logloss:0.07548\n",
      "[29]\tvalidation_0-logloss:0.07385\n",
      "[30]\tvalidation_0-logloss:0.07017\n",
      "[31]\tvalidation_0-logloss:0.06692\n",
      "[32]\tvalidation_0-logloss:0.06467\n",
      "[33]\tvalidation_0-logloss:0.06374\n",
      "[34]\tvalidation_0-logloss:0.06222\n",
      "[35]\tvalidation_0-logloss:0.05999\n",
      "[36]\tvalidation_0-logloss:0.05749\n",
      "[37]\tvalidation_0-logloss:0.05546\n",
      "[38]\tvalidation_0-logloss:0.05482\n",
      "[39]\tvalidation_0-logloss:0.05390\n",
      "[40]\tvalidation_0-logloss:0.05250\n",
      "[41]\tvalidation_0-logloss:0.05082\n",
      "[42]\tvalidation_0-logloss:0.04873\n",
      "[43]\tvalidation_0-logloss:0.04863\n",
      "[44]\tvalidation_0-logloss:0.04863\n",
      "[45]\tvalidation_0-logloss:0.04743\n",
      "[46]\tvalidation_0-logloss:0.04623\n",
      "[47]\tvalidation_0-logloss:0.04482\n",
      "[48]\tvalidation_0-logloss:0.04490\n",
      "[49]\tvalidation_0-logloss:0.04384\n",
      "[50]\tvalidation_0-logloss:0.04316\n",
      "[51]\tvalidation_0-logloss:0.04189\n",
      "[52]\tvalidation_0-logloss:0.04033\n",
      "[53]\tvalidation_0-logloss:0.04042\n",
      "[54]\tvalidation_0-logloss:0.03902\n",
      "[55]\tvalidation_0-logloss:0.03825\n",
      "[56]\tvalidation_0-logloss:0.03801\n",
      "[57]\tvalidation_0-logloss:0.03754\n",
      "[58]\tvalidation_0-logloss:0.03709\n",
      "[59]\tvalidation_0-logloss:0.03642\n",
      "[60]\tvalidation_0-logloss:0.03552\n",
      "[61]\tvalidation_0-logloss:0.03603\n",
      "[62]\tvalidation_0-logloss:0.03561\n",
      "[63]\tvalidation_0-logloss:0.03462\n",
      "[64]\tvalidation_0-logloss:0.03459\n",
      "[65]\tvalidation_0-logloss:0.03440\n",
      "[66]\tvalidation_0-logloss:0.03379\n",
      "[67]\tvalidation_0-logloss:0.03396\n",
      "[68]\tvalidation_0-logloss:0.03369\n",
      "[69]\tvalidation_0-logloss:0.03348\n",
      "[70]\tvalidation_0-logloss:0.03387\n",
      "[71]\tvalidation_0-logloss:0.03368\n",
      "[72]\tvalidation_0-logloss:0.03408\n",
      "Stopping. Best iteration:\n",
      "[69]\tvalidation_0-logloss:0.03348\n",
      "\n"
     ]
    },
    {
     "data": {
      "text/plain": [
       "XGBClassifier(base_score=0.5, booster=None, colsample_bylevel=1,\n",
       "              colsample_bynode=1, colsample_bytree=1, gamma=0, gpu_id=-1,\n",
       "              importance_type='gain', interaction_constraints=None,\n",
       "              learning_rate=0.1, max_delta_step=0, max_depth=4,\n",
       "              min_child_weight=1, missing=nan, monotone_constraints=None,\n",
       "              n_estimators=600, n_jobs=0, num_parallel_tree=1,\n",
       "              objective='binary:logistic', random_state=0, reg_alpha=0,\n",
       "              reg_lambda=1, scale_pos_weight=1, subsample=1, tree_method=None,\n",
       "              validate_parameters=False, verbosity=None)"
      ]
     },
     "execution_count": 37,
     "metadata": {},
     "output_type": "execute_result"
    }
   ],
   "source": [
    "xgb = XGBClassifier(n_estimators = 600, learning_rate = 0.1, max_depth = 4)\n",
    "evals = [(X_test,y_test)]\n",
    "xgb.fit(X_train,y_train,early_stopping_rounds = 3, eval_metric = 'logloss',eval_set = evals,verbose = 1)"
   ]
  },
  {
   "cell_type": "code",
   "execution_count": 45,
   "metadata": {
    "scrolled": true
   },
   "outputs": [
    {
     "data": {
      "text/plain": [
       "<matplotlib.axes._subplots.AxesSubplot at 0x234724947f0>"
      ]
     },
     "execution_count": 45,
     "metadata": {},
     "output_type": "execute_result"
    },
    {
     "data": {
      "image/png": "[encoded data removed]",
      "text/plain": [
       "<Figure size 432x288 with 1 Axes>"
      ]
     },
     "metadata": {
      "needs_background": "light"
     },
     "output_type": "display_data"
    }
   ],
   "source": [
    "import matplotlib.pyplot as plt\n",
    "fig,ax = plt.subplots()\n",
    "plot_importance(xgb,ax=ax)"
   ]
  }
 ],
 "metadata": {
  "kernelspec": {
   "display_name": "Python 3",
   "language": "python",
   "name": "python3"
  },
  "language_info": {
   "codemirror_mode": {
    "name": "ipython",
    "version": 3
   },
   "file_extension": ".py",
   "mimetype": "text/x-python",
   "name": "python",
   "nbconvert_exporter": "python",
   "pygments_lexer": "ipython3",
   "version": "3.7.1"
  }
 },
 "nbformat": 4,
 "nbformat_minor": 2
}
