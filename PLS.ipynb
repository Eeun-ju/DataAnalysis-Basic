{
 "cells": [
  {
   "cell_type": "markdown",
   "metadata": {},
   "source": [
    "# Partial Least Squares(부분 최소 제곱법)"
   ]
  },
  {
   "cell_type": "markdown",
   "metadata": {},
   "source": [
    "### tSNE와 비슷한 차원 축소 방법으로 PCA와 다르게 비선형 데이터 축소  에 강하고 변수의 개수 n과 feature의 개수 p가 서로 비슷하거나 p가 n보다 클 경우 자주 사용된다. "
   ]
  },
  {
   "cell_type": "code",
   "execution_count": 35,
   "metadata": {},
   "outputs": [],
   "source": [
    "import matplotlib.pyplot as plt\n",
    "from sklearn.datasets import make_classification\n",
    "from sklearn.cross_decomposition import PLSRegression\n",
    "from sklearn.decomposition import PCA\n",
    "from sklearn.manifold import TSNE\n",
    "import pandas as pd"
   ]
  },
  {
   "cell_type": "markdown",
   "metadata": {},
   "source": [
    "### 데이터 로드\n",
    "\n",
    "#### 100개의 sample, 500개의 feature, 0과1 분류"
   ]
  },
  {
   "cell_type": "code",
   "execution_count": 36,
   "metadata": {},
   "outputs": [],
   "source": [
    "X,y = make_classification(n_samples=100,n_features=500,n_informative=100,n_classes=2,random_state=2021)"
   ]
  },
  {
   "cell_type": "code",
   "execution_count": 37,
   "metadata": {},
   "outputs": [
    {
     "name": "stdout",
     "output_type": "stream",
     "text": [
      "X shape : (100, 500), y shape : (100,)\n"
     ]
    },
    {
     "data": {
      "text/html": [
       "<div>\n",
       "<style scoped>\n",
       "    .dataframe tbody tr th:only-of-type {\n",
       "        vertical-align: middle;\n",
       "    }\n",
       "\n",
       "    .dataframe tbody tr th {\n",
       "        vertical-align: top;\n",
       "    }\n",
       "\n",
       "    .dataframe thead th {\n",
       "        text-align: right;\n",
       "    }\n",
       "</style>\n",
       "<table border=\"1\" class=\"dataframe\">\n",
       "  <thead>\n",
       "    <tr style=\"text-align: right;\">\n",
       "      <th></th>\n",
       "      <th>0</th>\n",
       "      <th>1</th>\n",
       "      <th>2</th>\n",
       "      <th>3</th>\n",
       "      <th>4</th>\n",
       "      <th>5</th>\n",
       "      <th>6</th>\n",
       "      <th>7</th>\n",
       "      <th>8</th>\n",
       "      <th>9</th>\n",
       "      <th>...</th>\n",
       "      <th>491</th>\n",
       "      <th>492</th>\n",
       "      <th>493</th>\n",
       "      <th>494</th>\n",
       "      <th>495</th>\n",
       "      <th>496</th>\n",
       "      <th>497</th>\n",
       "      <th>498</th>\n",
       "      <th>499</th>\n",
       "      <th>0</th>\n",
       "    </tr>\n",
       "  </thead>\n",
       "  <tbody>\n",
       "    <tr>\n",
       "      <th>0</th>\n",
       "      <td>2.259847</td>\n",
       "      <td>-1.148370</td>\n",
       "      <td>-1.333091</td>\n",
       "      <td>-0.386961</td>\n",
       "      <td>-0.334060</td>\n",
       "      <td>1.933279</td>\n",
       "      <td>-1.289015</td>\n",
       "      <td>0.300465</td>\n",
       "      <td>-0.298549</td>\n",
       "      <td>1.597214</td>\n",
       "      <td>...</td>\n",
       "      <td>-0.366628</td>\n",
       "      <td>-3.577080</td>\n",
       "      <td>-0.680837</td>\n",
       "      <td>-1.940354</td>\n",
       "      <td>-1.038677</td>\n",
       "      <td>-0.303218</td>\n",
       "      <td>0.039709</td>\n",
       "      <td>-2.081429</td>\n",
       "      <td>0.141831</td>\n",
       "      <td>0</td>\n",
       "    </tr>\n",
       "    <tr>\n",
       "      <th>1</th>\n",
       "      <td>-3.665193</td>\n",
       "      <td>-1.003865</td>\n",
       "      <td>0.438098</td>\n",
       "      <td>-0.962139</td>\n",
       "      <td>0.738235</td>\n",
       "      <td>0.594833</td>\n",
       "      <td>-1.108695</td>\n",
       "      <td>0.039046</td>\n",
       "      <td>0.458278</td>\n",
       "      <td>-1.193748</td>\n",
       "      <td>...</td>\n",
       "      <td>-0.026171</td>\n",
       "      <td>9.518929</td>\n",
       "      <td>1.051629</td>\n",
       "      <td>-0.529314</td>\n",
       "      <td>0.047275</td>\n",
       "      <td>0.616865</td>\n",
       "      <td>0.404355</td>\n",
       "      <td>0.112155</td>\n",
       "      <td>1.236201</td>\n",
       "      <td>0</td>\n",
       "    </tr>\n",
       "    <tr>\n",
       "      <th>2</th>\n",
       "      <td>-3.863759</td>\n",
       "      <td>-1.560758</td>\n",
       "      <td>1.338754</td>\n",
       "      <td>0.879793</td>\n",
       "      <td>0.132548</td>\n",
       "      <td>-2.518793</td>\n",
       "      <td>2.303266</td>\n",
       "      <td>-0.998326</td>\n",
       "      <td>-0.545050</td>\n",
       "      <td>-0.233389</td>\n",
       "      <td>...</td>\n",
       "      <td>0.524647</td>\n",
       "      <td>3.413562</td>\n",
       "      <td>0.274757</td>\n",
       "      <td>-0.232519</td>\n",
       "      <td>2.173486</td>\n",
       "      <td>-0.923913</td>\n",
       "      <td>0.591501</td>\n",
       "      <td>0.503077</td>\n",
       "      <td>-1.027534</td>\n",
       "      <td>1</td>\n",
       "    </tr>\n",
       "    <tr>\n",
       "      <th>3</th>\n",
       "      <td>4.027934</td>\n",
       "      <td>-0.044884</td>\n",
       "      <td>-2.314829</td>\n",
       "      <td>-0.190687</td>\n",
       "      <td>0.264366</td>\n",
       "      <td>-1.003643</td>\n",
       "      <td>-0.122520</td>\n",
       "      <td>-0.846276</td>\n",
       "      <td>1.050383</td>\n",
       "      <td>-0.154980</td>\n",
       "      <td>...</td>\n",
       "      <td>0.703703</td>\n",
       "      <td>-4.505847</td>\n",
       "      <td>0.621373</td>\n",
       "      <td>-0.825565</td>\n",
       "      <td>-1.343799</td>\n",
       "      <td>0.354939</td>\n",
       "      <td>-0.497685</td>\n",
       "      <td>-1.666821</td>\n",
       "      <td>0.393929</td>\n",
       "      <td>0</td>\n",
       "    </tr>\n",
       "    <tr>\n",
       "      <th>4</th>\n",
       "      <td>5.847286</td>\n",
       "      <td>-0.519466</td>\n",
       "      <td>-1.179290</td>\n",
       "      <td>-0.045100</td>\n",
       "      <td>0.478195</td>\n",
       "      <td>0.573718</td>\n",
       "      <td>-1.228377</td>\n",
       "      <td>-1.820421</td>\n",
       "      <td>-0.824483</td>\n",
       "      <td>1.039919</td>\n",
       "      <td>...</td>\n",
       "      <td>1.115125</td>\n",
       "      <td>3.580695</td>\n",
       "      <td>0.645580</td>\n",
       "      <td>0.817670</td>\n",
       "      <td>0.318869</td>\n",
       "      <td>-1.025267</td>\n",
       "      <td>0.241732</td>\n",
       "      <td>-0.617144</td>\n",
       "      <td>-0.949305</td>\n",
       "      <td>0</td>\n",
       "    </tr>\n",
       "  </tbody>\n",
       "</table>\n",
       "<p>5 rows × 501 columns</p>\n",
       "</div>"
      ],
      "text/plain": [
       "        0         1         2         3         4         5         6    \\\n",
       "0  2.259847 -1.148370 -1.333091 -0.386961 -0.334060  1.933279 -1.289015   \n",
       "1 -3.665193 -1.003865  0.438098 -0.962139  0.738235  0.594833 -1.108695   \n",
       "2 -3.863759 -1.560758  1.338754  0.879793  0.132548 -2.518793  2.303266   \n",
       "3  4.027934 -0.044884 -2.314829 -0.190687  0.264366 -1.003643 -0.122520   \n",
       "4  5.847286 -0.519466 -1.179290 -0.045100  0.478195  0.573718 -1.228377   \n",
       "\n",
       "        7         8         9    ...       491       492       493       494  \\\n",
       "0  0.300465 -0.298549  1.597214  ... -0.366628 -3.577080 -0.680837 -1.940354   \n",
       "1  0.039046  0.458278 -1.193748  ... -0.026171  9.518929  1.051629 -0.529314   \n",
       "2 -0.998326 -0.545050 -0.233389  ...  0.524647  3.413562  0.274757 -0.232519   \n",
       "3 -0.846276  1.050383 -0.154980  ...  0.703703 -4.505847  0.621373 -0.825565   \n",
       "4 -1.820421 -0.824483  1.039919  ...  1.115125  3.580695  0.645580  0.817670   \n",
       "\n",
       "        495       496       497       498       499  0    \n",
       "0 -1.038677 -0.303218  0.039709 -2.081429  0.141831    0  \n",
       "1  0.047275  0.616865  0.404355  0.112155  1.236201    0  \n",
       "2  2.173486 -0.923913  0.591501  0.503077 -1.027534    1  \n",
       "3 -1.343799  0.354939 -0.497685 -1.666821  0.393929    0  \n",
       "4  0.318869 -1.025267  0.241732 -0.617144 -0.949305    0  \n",
       "\n",
       "[5 rows x 501 columns]"
      ]
     },
     "execution_count": 37,
     "metadata": {},
     "output_type": "execute_result"
    }
   ],
   "source": [
    "print('X shape : {}, y shape : {}'.format(X.shape,y.shape))\n",
    "pd.concat([pd.DataFrame(X),pd.DataFrame(y)],axis=1).head()"
   ]
  },
  {
   "cell_type": "markdown",
   "metadata": {},
   "source": [
    "### 같은 데이터에서 추출된 특징의 차이 확인"
   ]
  },
  {
   "cell_type": "code",
   "execution_count": 38,
   "metadata": {},
   "outputs": [
    {
     "data": {
      "image/png": "[encoded data removed]",
      "text/plain": [
       "<Figure size 1080x360 with 3 Axes>"
      ]
     },
     "metadata": {
      "needs_background": "light"
     },
     "output_type": "display_data"
    }
   ],
   "source": [
    "fig,ax = plt.subplots(1,3,figsize=(15,5))\n",
    "\n",
    "points = PCA(n_components=2,random_state=2021).fit_transform(X)\n",
    "ax[0].scatter(points[y==0,0],points[y==0,1],label = 'label[0]')\n",
    "ax[0].scatter(points[y==1,0], points[y==1,1], label=\"label[1]\")\n",
    "ax[0].set_title(\"PCA\")\n",
    "ax[0].set_xlabel(\"PC1\")\n",
    "ax[0].set_ylabel(\"PC2\")\n",
    "ax[0].legend()\n",
    "\n",
    "# TSNE\n",
    "points = TSNE(n_components=2, random_state=2021).fit_transform(X)\n",
    "ax[1].scatter(points[y==0,0], points[y==0,1], label=\"label[0]\")\n",
    "ax[1].scatter(points[y==1,0], points[y==1,1], label=\"label[1]\")\n",
    "ax[1].set_title(\"TSNE\")\n",
    "ax[1].set_xlabel(\"PC1\")\n",
    "ax[1].set_ylabel(\"PC2\")\n",
    "ax[1].legend()\n",
    "\n",
    "# PLS\n",
    "points, _ = PLSRegression(n_components=2).fit_transform(X,y) #Components 개수, 학습과 차원 축소 동시에 진행\n",
    "ax[2].scatter(points[y==0,0], points[y==0,1], label=\"label[0]\")\n",
    "ax[2].scatter(points[y==1,0], points[y==1,1], label=\"label[1]\")\n",
    "ax[2].set_title(\"PLSRegression\")\n",
    "ax[2].set_xlabel(\"T1\")\n",
    "ax[2].set_ylabel(\"T2\")\n",
    "ax[2].legend()\n",
    "\n",
    "plt.show()\n",
    "plt.close()"
   ]
  },
  {
   "cell_type": "markdown",
   "metadata": {},
   "source": [
    "    PCA : 선형 방식으로 정사영하기 때문에 차원이 줄어들면서 뭉개지는 특징을 가진다.\n",
    "    TSNE : 기존 데이터 형태의 분포를 이해할 수 있는 형태로 축소해주는 특징을 가진다.\n",
    "    PSL : t1의 특징을 제외한 데이터에서 t2를 찾기 때문에 전혀 겹치지 않는 특징을 가진다."
   ]
  },
  {
   "cell_type": "code",
   "execution_count": null,
   "metadata": {},
   "outputs": [],
   "source": []
  }
 ],
 "metadata": {
  "kernelspec": {
   "display_name": "Python 3",
   "language": "python",
   "name": "python3"
  },
  "language_info": {
   "codemirror_mode": {
    "name": "ipython",
    "version": 3
   },
   "file_extension": ".py",
   "mimetype": "text/x-python",
   "name": "python",
   "nbconvert_exporter": "python",
   "pygments_lexer": "ipython3",
   "version": "3.7.1"
  }
 },
 "nbformat": 4,
 "nbformat_minor": 2
}
